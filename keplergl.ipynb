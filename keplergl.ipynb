{
 "cells": [
  {
   "cell_type": "code",
   "execution_count": null,
   "id": "729715eb",
   "metadata": {},
   "outputs": [],
   "source": [
    "#Installed keplergl package on a new environment in anaconda"
   ]
  },
  {
   "cell_type": "code",
   "execution_count": 40,
   "id": "b740fa22",
   "metadata": {
    "scrolled": true
   },
   "outputs": [
    {
     "name": "stdout",
     "output_type": "stream",
     "text": [
      "User Guide: https://docs.kepler.gl/docs/keplergl-jupyter\n"
     ]
    }
   ],
   "source": [
    "from keplergl import KeplerGl\n",
    "map_1 = KeplerGl(height=1000)"
   ]
  },
  {
   "cell_type": "code",
   "execution_count": 41,
   "id": "408f3913",
   "metadata": {},
   "outputs": [],
   "source": [
    "import numpy as np\n",
    "import pandas as pd"
   ]
  },
  {
   "cell_type": "code",
   "execution_count": 42,
   "id": "b950827b",
   "metadata": {},
   "outputs": [],
   "source": [
    "df=pd.read_csv('noise.csv')"
   ]
  },
  {
   "cell_type": "code",
   "execution_count": 43,
   "id": "cd849af0",
   "metadata": {},
   "outputs": [],
   "source": [
    "#deleting the Index column \n",
    "del df['Index']"
   ]
  },
  {
   "cell_type": "code",
   "execution_count": 44,
   "id": "d48666de",
   "metadata": {},
   "outputs": [],
   "source": [
    "df['Bezirk']=df['Bezirk'].astype(str)"
   ]
  },
  {
   "cell_type": "code",
   "execution_count": 45,
   "id": "617e14e1",
   "metadata": {},
   "outputs": [],
   "source": [
    "df['DB_TAG']=df['DB_TAG'].astype(float)"
   ]
  },
  {
   "cell_type": "code",
   "execution_count": 46,
   "id": "14b45ca3",
   "metadata": {},
   "outputs": [],
   "source": [
    "df['DB_NACHT']=df['DB_NACHT'].astype(float)"
   ]
  },
  {
   "cell_type": "code",
   "execution_count": 47,
   "id": "6ce59329",
   "metadata": {},
   "outputs": [],
   "source": [
    "df.replace(' ', np.nan,inplace=True)"
   ]
  },
  {
   "cell_type": "code",
   "execution_count": 48,
   "id": "f4ea6051",
   "metadata": {},
   "outputs": [],
   "source": [
    "df['Latitude']=df['Latitude'].astype(float)"
   ]
  },
  {
   "cell_type": "code",
   "execution_count": 49,
   "id": "03ad4f2a",
   "metadata": {},
   "outputs": [],
   "source": [
    "df['Longitude']=df['Longitude'].astype(float)"
   ]
  },
  {
   "cell_type": "code",
   "execution_count": 52,
   "id": "9f46d1c2",
   "metadata": {},
   "outputs": [
    {
     "data": {
      "text/html": [
       "<div>\n",
       "<style scoped>\n",
       "    .dataframe tbody tr th:only-of-type {\n",
       "        vertical-align: middle;\n",
       "    }\n",
       "\n",
       "    .dataframe tbody tr th {\n",
       "        vertical-align: top;\n",
       "    }\n",
       "\n",
       "    .dataframe thead th {\n",
       "        text-align: right;\n",
       "    }\n",
       "</style>\n",
       "<table border=\"1\" class=\"dataframe\">\n",
       "  <thead>\n",
       "    <tr style=\"text-align: right;\">\n",
       "      <th></th>\n",
       "      <th>Bezirk</th>\n",
       "      <th>DB_TAG</th>\n",
       "      <th>DB_NACHT</th>\n",
       "      <th>Latitude</th>\n",
       "      <th>Longitude</th>\n",
       "    </tr>\n",
       "  </thead>\n",
       "  <tbody>\n",
       "    <tr>\n",
       "      <th>0</th>\n",
       "      <td>Aachener Straße 1, Düsseldorf, Germany</td>\n",
       "      <td>68.0</td>\n",
       "      <td>62.0</td>\n",
       "      <td>51.207592</td>\n",
       "      <td>6.776500</td>\n",
       "    </tr>\n",
       "    <tr>\n",
       "      <th>1</th>\n",
       "      <td>Aachener Straße 10, Düsseldorf, Germany</td>\n",
       "      <td>68.0</td>\n",
       "      <td>61.0</td>\n",
       "      <td>51.207128</td>\n",
       "      <td>6.776436</td>\n",
       "    </tr>\n",
       "    <tr>\n",
       "      <th>2</th>\n",
       "      <td>Aachener Straße 101, Düsseldorf, Germany</td>\n",
       "      <td>70.0</td>\n",
       "      <td>63.0</td>\n",
       "      <td>51.202533</td>\n",
       "      <td>6.771146</td>\n",
       "    </tr>\n",
       "  </tbody>\n",
       "</table>\n",
       "</div>"
      ],
      "text/plain": [
       "                                     Bezirk  DB_TAG  DB_NACHT   Latitude  \\\n",
       "0    Aachener Straße 1, Düsseldorf, Germany    68.0      62.0  51.207592   \n",
       "1   Aachener Straße 10, Düsseldorf, Germany    68.0      61.0  51.207128   \n",
       "2  Aachener Straße 101, Düsseldorf, Germany    70.0      63.0  51.202533   \n",
       "\n",
       "   Longitude  \n",
       "0   6.776500  \n",
       "1   6.776436  \n",
       "2   6.771146  "
      ]
     },
     "execution_count": 52,
     "metadata": {},
     "output_type": "execute_result"
    }
   ],
   "source": [
    "df.head(3)"
   ]
  },
  {
   "cell_type": "code",
   "execution_count": 54,
   "id": "5f2df596",
   "metadata": {},
   "outputs": [],
   "source": [
    "df['avg_db']=(df['DB_TAG']+df['DB_NACHT'])/2"
   ]
  },
  {
   "cell_type": "code",
   "execution_count": 55,
   "id": "ec85b3a2",
   "metadata": {},
   "outputs": [
    {
     "name": "stderr",
     "output_type": "stream",
     "text": [
      "C:\\Users\\joe16\\anaconda3\\envs\\kep\\lib\\site-packages\\jupyter_client\\session.py:718: UserWarning: Message serialization failed with:\n",
      "Out of range float values are not JSON compliant\n",
      "Supporting this message is deprecated in jupyter-client 7, please make sure your message is JSON-compliant\n",
      "  content = self.pack(content)\n"
     ]
    }
   ],
   "source": [
    "map_1.add_data(data=df, name='dus_noise')"
   ]
  },
  {
   "cell_type": "code",
   "execution_count": 56,
   "id": "8aa5b653",
   "metadata": {},
   "outputs": [
    {
     "data": {
      "application/vnd.jupyter.widget-view+json": {
       "model_id": "6a539b6322834bf59044aa954e473b50",
       "version_major": 2,
       "version_minor": 0
      },
      "text/plain": [
       "KeplerGl(config={'version': 'v1', 'config': {'visState': {'filters': [{'dataId': ['dus_noise'], 'id': '4fc3lfy…"
      ]
     },
     "metadata": {},
     "output_type": "display_data"
    }
   ],
   "source": [
    "map_1"
   ]
  },
  {
   "cell_type": "code",
   "execution_count": 57,
   "id": "e005bbf3",
   "metadata": {},
   "outputs": [
    {
     "name": "stdout",
     "output_type": "stream",
     "text": [
      "Map saved to dus_map2.html!\n"
     ]
    }
   ],
   "source": [
    "map_1.save_to_html(file_name='dus_map2.html')"
   ]
  }
 ],
 "metadata": {
  "kernelspec": {
   "display_name": "Python 3 (ipykernel)",
   "language": "python",
   "name": "python3"
  },
  "language_info": {
   "codemirror_mode": {
    "name": "ipython",
    "version": 3
   },
   "file_extension": ".py",
   "mimetype": "text/x-python",
   "name": "python",
   "nbconvert_exporter": "python",
   "pygments_lexer": "ipython3",
   "version": "3.10.5"
  }
 },
 "nbformat": 4,
 "nbformat_minor": 5
}
