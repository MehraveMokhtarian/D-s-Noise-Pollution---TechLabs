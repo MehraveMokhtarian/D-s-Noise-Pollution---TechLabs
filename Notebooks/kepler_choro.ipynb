{
 "cells": [
  {
   "cell_type": "code",
   "execution_count": 22,
   "id": "1281901d",
   "metadata": {},
   "outputs": [],
   "source": [
    "#importing libraries\n",
    "import numpy as np\n",
    "import pandas as pd\n",
    "import geopandas as gpd\n",
    "from keplergl import KeplerGl"
   ]
  },
  {
   "cell_type": "code",
   "execution_count": 23,
   "id": "1802ea34",
   "metadata": {},
   "outputs": [],
   "source": [
    "#importing the shapefile\n",
    "gply = gpd.read_file('Stadtteile/Düsseldorf_Stadtteile.shp')"
   ]
  },
  {
   "cell_type": "code",
   "execution_count": 24,
   "id": "0af37381",
   "metadata": {},
   "outputs": [],
   "source": [
    "#dropping irrelevant columne\n",
    "columns_drop = [\"OBJECTID\", \"Quelle\", \"Stand\", \"Stadtbezir\", \"Stadtteil\", \"SHAPE_Leng\", \"SHAPE_Area\"]\n",
    "gply.drop(labels = columns_drop, axis = \"columns\", inplace = True)"
   ]
  },
  {
   "cell_type": "code",
   "execution_count": 4,
   "id": "fe802648",
   "metadata": {},
   "outputs": [
    {
     "data": {
      "text/plain": [
       "Name          object\n",
       "geometry    geometry\n",
       "dtype: object"
      ]
     },
     "execution_count": 4,
     "metadata": {},
     "output_type": "execute_result"
    }
   ],
   "source": [
    "gply.dtypes"
   ]
  },
  {
   "cell_type": "code",
   "execution_count": 25,
   "id": "e80e8476",
   "metadata": {},
   "outputs": [
    {
     "data": {
      "text/plain": [
       "<Geographic 2D CRS: EPSG:4326>\n",
       "Name: WGS 84\n",
       "Axis Info [ellipsoidal]:\n",
       "- Lat[north]: Geodetic latitude (degree)\n",
       "- Lon[east]: Geodetic longitude (degree)\n",
       "Area of Use:\n",
       "- name: World.\n",
       "- bounds: (-180.0, -90.0, 180.0, 90.0)\n",
       "Datum: World Geodetic System 1984 ensemble\n",
       "- Ellipsoid: WGS 84\n",
       "- Prime Meridian: Greenwich"
      ]
     },
     "execution_count": 25,
     "metadata": {},
     "output_type": "execute_result"
    }
   ],
   "source": [
    "#converting to standard crs\n",
    "gply = gply.to_crs(4326)\n",
    "gply.crs"
   ]
  },
  {
   "cell_type": "code",
   "execution_count": 26,
   "id": "ac15d57f",
   "metadata": {},
   "outputs": [
    {
     "data": {
      "text/html": [
       "<div>\n",
       "<style scoped>\n",
       "    .dataframe tbody tr th:only-of-type {\n",
       "        vertical-align: middle;\n",
       "    }\n",
       "\n",
       "    .dataframe tbody tr th {\n",
       "        vertical-align: top;\n",
       "    }\n",
       "\n",
       "    .dataframe thead th {\n",
       "        text-align: right;\n",
       "    }\n",
       "</style>\n",
       "<table border=\"1\" class=\"dataframe\">\n",
       "  <thead>\n",
       "    <tr style=\"text-align: right;\">\n",
       "      <th></th>\n",
       "      <th>Name</th>\n",
       "      <th>geometry</th>\n",
       "    </tr>\n",
       "  </thead>\n",
       "  <tbody>\n",
       "    <tr>\n",
       "      <th>0</th>\n",
       "      <td>Wittlaer</td>\n",
       "      <td>POLYGON Z ((6.76623 51.31355 0.00000, 6.76617 ...</td>\n",
       "    </tr>\n",
       "    <tr>\n",
       "      <th>1</th>\n",
       "      <td>Angermund</td>\n",
       "      <td>POLYGON Z ((6.80952 51.34292 0.00000, 6.80943 ...</td>\n",
       "    </tr>\n",
       "    <tr>\n",
       "      <th>2</th>\n",
       "      <td>Lörick</td>\n",
       "      <td>POLYGON Z ((6.74610 51.25203 0.00000, 6.74380 ...</td>\n",
       "    </tr>\n",
       "    <tr>\n",
       "      <th>3</th>\n",
       "      <td>Heerdt</td>\n",
       "      <td>POLYGON Z ((6.73560 51.23767 0.00000, 6.73399 ...</td>\n",
       "    </tr>\n",
       "    <tr>\n",
       "      <th>4</th>\n",
       "      <td>Oberkassel</td>\n",
       "      <td>POLYGON Z ((6.76868 51.23195 0.00000, 6.76868 ...</td>\n",
       "    </tr>\n",
       "  </tbody>\n",
       "</table>\n",
       "</div>"
      ],
      "text/plain": [
       "         Name                                           geometry\n",
       "0    Wittlaer  POLYGON Z ((6.76623 51.31355 0.00000, 6.76617 ...\n",
       "1   Angermund  POLYGON Z ((6.80952 51.34292 0.00000, 6.80943 ...\n",
       "2      Lörick  POLYGON Z ((6.74610 51.25203 0.00000, 6.74380 ...\n",
       "3      Heerdt  POLYGON Z ((6.73560 51.23767 0.00000, 6.73399 ...\n",
       "4  Oberkassel  POLYGON Z ((6.76868 51.23195 0.00000, 6.76868 ..."
      ]
     },
     "execution_count": 26,
     "metadata": {},
     "output_type": "execute_result"
    }
   ],
   "source": [
    "gply.head()"
   ]
  },
  {
   "cell_type": "code",
   "execution_count": null,
   "id": "eea1e6d9",
   "metadata": {},
   "outputs": [],
   "source": []
  },
  {
   "cell_type": "code",
   "execution_count": null,
   "id": "a8655cd4",
   "metadata": {},
   "outputs": [],
   "source": []
  },
  {
   "cell_type": "code",
   "execution_count": 27,
   "id": "d50bc3e0",
   "metadata": {},
   "outputs": [],
   "source": [
    "#loading the noise dataset \n",
    "df = pd.read_csv('noise_c.csv')\n",
    "df.rename(columns={'Bezirk': 'Address'}, inplace=True)"
   ]
  },
  {
   "cell_type": "code",
   "execution_count": 28,
   "id": "c8411045",
   "metadata": {},
   "outputs": [
    {
     "data": {
      "text/plain": [
       "Address       object\n",
       "DB_TAG         int64\n",
       "DB_NACHT       int64\n",
       "Latitude     float64\n",
       "Longitude    float64\n",
       "dtype: object"
      ]
     },
     "execution_count": 28,
     "metadata": {},
     "output_type": "execute_result"
    }
   ],
   "source": [
    "df.dtypes"
   ]
  },
  {
   "cell_type": "code",
   "execution_count": 29,
   "id": "a5f824c8",
   "metadata": {},
   "outputs": [],
   "source": [
    "#converting the noise dataset to GeoDataframe\n",
    "gdf = gpd.GeoDataFrame(df, geometry=gpd.points_from_xy(df.Longitude, df.Latitude),crs='4326')"
   ]
  },
  {
   "cell_type": "code",
   "execution_count": 30,
   "id": "8a737b39",
   "metadata": {},
   "outputs": [
    {
     "data": {
      "text/plain": [
       "((77018, 6),\n",
       " <Geographic 2D CRS: EPSG:4326>\n",
       " Name: WGS 84\n",
       " Axis Info [ellipsoidal]:\n",
       " - Lat[north]: Geodetic latitude (degree)\n",
       " - Lon[east]: Geodetic longitude (degree)\n",
       " Area of Use:\n",
       " - name: World.\n",
       " - bounds: (-180.0, -90.0, 180.0, 90.0)\n",
       " Datum: World Geodetic System 1984 ensemble\n",
       " - Ellipsoid: WGS 84\n",
       " - Prime Meridian: Greenwich)"
      ]
     },
     "execution_count": 30,
     "metadata": {},
     "output_type": "execute_result"
    }
   ],
   "source": [
    "gdf.shape,gdf.crs"
   ]
  },
  {
   "cell_type": "code",
   "execution_count": 31,
   "id": "4137a391",
   "metadata": {},
   "outputs": [
    {
     "data": {
      "text/html": [
       "<div>\n",
       "<style scoped>\n",
       "    .dataframe tbody tr th:only-of-type {\n",
       "        vertical-align: middle;\n",
       "    }\n",
       "\n",
       "    .dataframe tbody tr th {\n",
       "        vertical-align: top;\n",
       "    }\n",
       "\n",
       "    .dataframe thead th {\n",
       "        text-align: right;\n",
       "    }\n",
       "</style>\n",
       "<table border=\"1\" class=\"dataframe\">\n",
       "  <thead>\n",
       "    <tr style=\"text-align: right;\">\n",
       "      <th></th>\n",
       "      <th>Address</th>\n",
       "      <th>DB_TAG</th>\n",
       "      <th>DB_NACHT</th>\n",
       "      <th>Latitude</th>\n",
       "      <th>Longitude</th>\n",
       "      <th>geometry</th>\n",
       "    </tr>\n",
       "  </thead>\n",
       "  <tbody>\n",
       "    <tr>\n",
       "      <th>0</th>\n",
       "      <td>Aachener Straße 1, Düsseldorf, Germany</td>\n",
       "      <td>68</td>\n",
       "      <td>62</td>\n",
       "      <td>51.207592</td>\n",
       "      <td>6.776500</td>\n",
       "      <td>POINT (6.77650 51.20759)</td>\n",
       "    </tr>\n",
       "    <tr>\n",
       "      <th>1</th>\n",
       "      <td>Aachener Straße 10, Düsseldorf, Germany</td>\n",
       "      <td>68</td>\n",
       "      <td>61</td>\n",
       "      <td>51.207128</td>\n",
       "      <td>6.776436</td>\n",
       "      <td>POINT (6.77644 51.20713)</td>\n",
       "    </tr>\n",
       "    <tr>\n",
       "      <th>2</th>\n",
       "      <td>Aachener Straße 101, Düsseldorf, Germany</td>\n",
       "      <td>70</td>\n",
       "      <td>63</td>\n",
       "      <td>51.202533</td>\n",
       "      <td>6.771146</td>\n",
       "      <td>POINT (6.77115 51.20253)</td>\n",
       "    </tr>\n",
       "    <tr>\n",
       "      <th>3</th>\n",
       "      <td>Aachener Straße 103, Düsseldorf, Germany</td>\n",
       "      <td>70</td>\n",
       "      <td>62</td>\n",
       "      <td>51.202428</td>\n",
       "      <td>6.771077</td>\n",
       "      <td>POINT (6.77108 51.20243)</td>\n",
       "    </tr>\n",
       "    <tr>\n",
       "      <th>4</th>\n",
       "      <td>Aachener Straße 105, Düsseldorf, Germany</td>\n",
       "      <td>69</td>\n",
       "      <td>62</td>\n",
       "      <td>51.202332</td>\n",
       "      <td>6.771107</td>\n",
       "      <td>POINT (6.77111 51.20233)</td>\n",
       "    </tr>\n",
       "  </tbody>\n",
       "</table>\n",
       "</div>"
      ],
      "text/plain": [
       "                                    Address  DB_TAG  DB_NACHT   Latitude  \\\n",
       "0    Aachener Straße 1, Düsseldorf, Germany      68        62  51.207592   \n",
       "1   Aachener Straße 10, Düsseldorf, Germany      68        61  51.207128   \n",
       "2  Aachener Straße 101, Düsseldorf, Germany      70        63  51.202533   \n",
       "3  Aachener Straße 103, Düsseldorf, Germany      70        62  51.202428   \n",
       "4  Aachener Straße 105, Düsseldorf, Germany      69        62  51.202332   \n",
       "\n",
       "   Longitude                  geometry  \n",
       "0   6.776500  POINT (6.77650 51.20759)  \n",
       "1   6.776436  POINT (6.77644 51.20713)  \n",
       "2   6.771146  POINT (6.77115 51.20253)  \n",
       "3   6.771077  POINT (6.77108 51.20243)  \n",
       "4   6.771107  POINT (6.77111 51.20233)  "
      ]
     },
     "execution_count": 31,
     "metadata": {},
     "output_type": "execute_result"
    }
   ],
   "source": [
    "gdf.head()"
   ]
  },
  {
   "cell_type": "code",
   "execution_count": null,
   "id": "c32ff5a2",
   "metadata": {},
   "outputs": [],
   "source": []
  },
  {
   "cell_type": "code",
   "execution_count": null,
   "id": "ded987e2",
   "metadata": {},
   "outputs": [],
   "source": []
  },
  {
   "cell_type": "code",
   "execution_count": 32,
   "id": "112ef653",
   "metadata": {},
   "outputs": [
    {
     "name": "stderr",
     "output_type": "stream",
     "text": [
      "C:\\Users\\joe16\\anaconda3\\envs\\geo_env\\lib\\site-packages\\IPython\\core\\interactiveshell.py:3338: FutureWarning: The `op` parameter is deprecated and will be removed in a future release. Please use the `predicate` parameter instead.\n",
      "  if await self.run_code(code, result, async_=asy):\n"
     ]
    },
    {
     "data": {
      "text/html": [
       "<div>\n",
       "<style scoped>\n",
       "    .dataframe tbody tr th:only-of-type {\n",
       "        vertical-align: middle;\n",
       "    }\n",
       "\n",
       "    .dataframe tbody tr th {\n",
       "        vertical-align: top;\n",
       "    }\n",
       "\n",
       "    .dataframe thead th {\n",
       "        text-align: right;\n",
       "    }\n",
       "</style>\n",
       "<table border=\"1\" class=\"dataframe\">\n",
       "  <thead>\n",
       "    <tr style=\"text-align: right;\">\n",
       "      <th></th>\n",
       "      <th>Name</th>\n",
       "      <th>geometry</th>\n",
       "      <th>index_right</th>\n",
       "      <th>Address</th>\n",
       "      <th>DB_TAG</th>\n",
       "      <th>DB_NACHT</th>\n",
       "      <th>Latitude</th>\n",
       "      <th>Longitude</th>\n",
       "    </tr>\n",
       "  </thead>\n",
       "  <tbody>\n",
       "    <tr>\n",
       "      <th>0</th>\n",
       "      <td>Wittlaer</td>\n",
       "      <td>POLYGON Z ((6.76623 51.31355 0.00000, 6.76617 ...</td>\n",
       "      <td>65394</td>\n",
       "      <td>Schulweg 14, Düsseldorf, Germany</td>\n",
       "      <td>50</td>\n",
       "      <td>41</td>\n",
       "      <td>51.324019</td>\n",
       "      <td>6.738590</td>\n",
       "    </tr>\n",
       "    <tr>\n",
       "      <th>0</th>\n",
       "      <td>Wittlaer</td>\n",
       "      <td>POLYGON Z ((6.76623 51.31355 0.00000, 6.76617 ...</td>\n",
       "      <td>40624</td>\n",
       "      <td>Kalkstraße 16, Düsseldorf, Germany</td>\n",
       "      <td>50</td>\n",
       "      <td>42</td>\n",
       "      <td>51.324031</td>\n",
       "      <td>6.742087</td>\n",
       "    </tr>\n",
       "    <tr>\n",
       "      <th>0</th>\n",
       "      <td>Wittlaer</td>\n",
       "      <td>POLYGON Z ((6.76623 51.31355 0.00000, 6.76617 ...</td>\n",
       "      <td>13616</td>\n",
       "      <td>Bockumer Straße 49c, Düsseldorf, Germany</td>\n",
       "      <td>61</td>\n",
       "      <td>52</td>\n",
       "      <td>51.324051</td>\n",
       "      <td>6.739528</td>\n",
       "    </tr>\n",
       "    <tr>\n",
       "      <th>0</th>\n",
       "      <td>Wittlaer</td>\n",
       "      <td>POLYGON Z ((6.76623 51.31355 0.00000, 6.76617 ...</td>\n",
       "      <td>8210</td>\n",
       "      <td>An der Schanz 7, Düsseldorf, Germany</td>\n",
       "      <td>51</td>\n",
       "      <td>42</td>\n",
       "      <td>51.324113</td>\n",
       "      <td>6.741296</td>\n",
       "    </tr>\n",
       "    <tr>\n",
       "      <th>0</th>\n",
       "      <td>Wittlaer</td>\n",
       "      <td>POLYGON Z ((6.76623 51.31355 0.00000, 6.76617 ...</td>\n",
       "      <td>8202</td>\n",
       "      <td>An der Schanz 10, Düsseldorf, Germany</td>\n",
       "      <td>54</td>\n",
       "      <td>45</td>\n",
       "      <td>51.324137</td>\n",
       "      <td>6.740668</td>\n",
       "    </tr>\n",
       "  </tbody>\n",
       "</table>\n",
       "</div>"
      ],
      "text/plain": [
       "       Name                                           geometry  index_right  \\\n",
       "0  Wittlaer  POLYGON Z ((6.76623 51.31355 0.00000, 6.76617 ...        65394   \n",
       "0  Wittlaer  POLYGON Z ((6.76623 51.31355 0.00000, 6.76617 ...        40624   \n",
       "0  Wittlaer  POLYGON Z ((6.76623 51.31355 0.00000, 6.76617 ...        13616   \n",
       "0  Wittlaer  POLYGON Z ((6.76623 51.31355 0.00000, 6.76617 ...         8210   \n",
       "0  Wittlaer  POLYGON Z ((6.76623 51.31355 0.00000, 6.76617 ...         8202   \n",
       "\n",
       "                                    Address  DB_TAG  DB_NACHT   Latitude  \\\n",
       "0          Schulweg 14, Düsseldorf, Germany      50        41  51.324019   \n",
       "0        Kalkstraße 16, Düsseldorf, Germany      50        42  51.324031   \n",
       "0  Bockumer Straße 49c, Düsseldorf, Germany      61        52  51.324051   \n",
       "0      An der Schanz 7, Düsseldorf, Germany      51        42  51.324113   \n",
       "0     An der Schanz 10, Düsseldorf, Germany      54        45  51.324137   \n",
       "\n",
       "   Longitude  \n",
       "0   6.738590  \n",
       "0   6.742087  \n",
       "0   6.739528  \n",
       "0   6.741296  \n",
       "0   6.740668  "
      ]
     },
     "execution_count": 32,
     "metadata": {},
     "output_type": "execute_result"
    }
   ],
   "source": [
    "#merging both datasets to plot choropleth\n",
    "merge=gpd.sjoin(gply,gdf,how='inner',op='contains')\n",
    "merge.head()"
   ]
  },
  {
   "cell_type": "code",
   "execution_count": 33,
   "id": "db8bbb70",
   "metadata": {},
   "outputs": [
    {
     "data": {
      "text/plain": [
       "((50, 2),\n",
       "               DB_TAG   DB_NACHT\n",
       " Name                           \n",
       " Altstadt   57.699789  48.217759\n",
       " Angermund  51.446281  42.895741\n",
       " Benrath    58.261646  50.305124\n",
       " Bilk       59.179613  51.136587\n",
       " Carlstadt  60.528736  51.890805)"
      ]
     },
     "execution_count": 33,
     "metadata": {},
     "output_type": "execute_result"
    }
   ],
   "source": [
    "gba=merge.groupby(['Name']).agg({'DB_TAG':'mean','DB_NACHT':'mean'})\n",
    "gba.shape,gba.head()"
   ]
  },
  {
   "cell_type": "code",
   "execution_count": 34,
   "id": "dd819d35",
   "metadata": {},
   "outputs": [
    {
     "data": {
      "text/html": [
       "<div>\n",
       "<style scoped>\n",
       "    .dataframe tbody tr th:only-of-type {\n",
       "        vertical-align: middle;\n",
       "    }\n",
       "\n",
       "    .dataframe tbody tr th {\n",
       "        vertical-align: top;\n",
       "    }\n",
       "\n",
       "    .dataframe thead th {\n",
       "        text-align: right;\n",
       "    }\n",
       "</style>\n",
       "<table border=\"1\" class=\"dataframe\">\n",
       "  <thead>\n",
       "    <tr style=\"text-align: right;\">\n",
       "      <th></th>\n",
       "      <th>Name</th>\n",
       "      <th>geometry</th>\n",
       "    </tr>\n",
       "  </thead>\n",
       "  <tbody>\n",
       "    <tr>\n",
       "      <th>0</th>\n",
       "      <td>Wittlaer</td>\n",
       "      <td>POLYGON Z ((6.76623 51.31355 0.00000, 6.76617 ...</td>\n",
       "    </tr>\n",
       "    <tr>\n",
       "      <th>1</th>\n",
       "      <td>Angermund</td>\n",
       "      <td>POLYGON Z ((6.80952 51.34292 0.00000, 6.80943 ...</td>\n",
       "    </tr>\n",
       "    <tr>\n",
       "      <th>2</th>\n",
       "      <td>Lörick</td>\n",
       "      <td>POLYGON Z ((6.74610 51.25203 0.00000, 6.74380 ...</td>\n",
       "    </tr>\n",
       "    <tr>\n",
       "      <th>3</th>\n",
       "      <td>Heerdt</td>\n",
       "      <td>POLYGON Z ((6.73560 51.23767 0.00000, 6.73399 ...</td>\n",
       "    </tr>\n",
       "    <tr>\n",
       "      <th>4</th>\n",
       "      <td>Oberkassel</td>\n",
       "      <td>POLYGON Z ((6.76868 51.23195 0.00000, 6.76868 ...</td>\n",
       "    </tr>\n",
       "  </tbody>\n",
       "</table>\n",
       "</div>"
      ],
      "text/plain": [
       "         Name                                           geometry\n",
       "0    Wittlaer  POLYGON Z ((6.76623 51.31355 0.00000, 6.76617 ...\n",
       "1   Angermund  POLYGON Z ((6.80952 51.34292 0.00000, 6.80943 ...\n",
       "2      Lörick  POLYGON Z ((6.74610 51.25203 0.00000, 6.74380 ...\n",
       "3      Heerdt  POLYGON Z ((6.73560 51.23767 0.00000, 6.73399 ...\n",
       "4  Oberkassel  POLYGON Z ((6.76868 51.23195 0.00000, 6.76868 ..."
      ]
     },
     "execution_count": 34,
     "metadata": {},
     "output_type": "execute_result"
    }
   ],
   "source": [
    "gply.head()"
   ]
  },
  {
   "cell_type": "code",
   "execution_count": 35,
   "id": "28011c00",
   "metadata": {},
   "outputs": [],
   "source": [
    "gply.set_index('Name',inplace=True)"
   ]
  },
  {
   "cell_type": "code",
   "execution_count": 36,
   "id": "ce1e43bd",
   "metadata": {},
   "outputs": [],
   "source": [
    "gply['Avg_Day']=gba['DB_TAG']\n",
    "gply['Avg_Night']=gba['DB_NACHT']"
   ]
  },
  {
   "cell_type": "code",
   "execution_count": 37,
   "id": "446f4c3c",
   "metadata": {},
   "outputs": [
    {
     "data": {
      "text/plain": [
       "((50, 3),\n",
       "                                                      geometry    Avg_Day  \\\n",
       " Name                                                                       \n",
       " Wittlaer    POLYGON Z ((6.76623 51.31355 0.00000, 6.76617 ...  53.339965   \n",
       " Angermund   POLYGON Z ((6.80952 51.34292 0.00000, 6.80943 ...  51.446281   \n",
       " Lörick      POLYGON Z ((6.74610 51.25203 0.00000, 6.74380 ...  53.602421   \n",
       " Heerdt      POLYGON Z ((6.73560 51.23767 0.00000, 6.73399 ...  60.602572   \n",
       " Oberkassel  POLYGON Z ((6.76868 51.23195 0.00000, 6.76868 ...  58.515371   \n",
       " \n",
       "             Avg_Night  \n",
       " Name                   \n",
       " Wittlaer    45.046811  \n",
       " Angermund   42.895741  \n",
       " Lörick      45.645251  \n",
       " Heerdt      53.483601  \n",
       " Oberkassel  50.722032  )"
      ]
     },
     "execution_count": 37,
     "metadata": {},
     "output_type": "execute_result"
    }
   ],
   "source": [
    "gply.shape,gply.head()"
   ]
  },
  {
   "cell_type": "code",
   "execution_count": 38,
   "id": "8319d7af",
   "metadata": {},
   "outputs": [],
   "source": [
    "gply.reset_index(inplace=True)"
   ]
  },
  {
   "cell_type": "code",
   "execution_count": 39,
   "id": "3bc1b1e6",
   "metadata": {},
   "outputs": [
    {
     "data": {
      "text/html": [
       "<div>\n",
       "<style scoped>\n",
       "    .dataframe tbody tr th:only-of-type {\n",
       "        vertical-align: middle;\n",
       "    }\n",
       "\n",
       "    .dataframe tbody tr th {\n",
       "        vertical-align: top;\n",
       "    }\n",
       "\n",
       "    .dataframe thead th {\n",
       "        text-align: right;\n",
       "    }\n",
       "</style>\n",
       "<table border=\"1\" class=\"dataframe\">\n",
       "  <thead>\n",
       "    <tr style=\"text-align: right;\">\n",
       "      <th></th>\n",
       "      <th>Name</th>\n",
       "      <th>geometry</th>\n",
       "      <th>Avg_Day</th>\n",
       "      <th>Avg_Night</th>\n",
       "    </tr>\n",
       "  </thead>\n",
       "  <tbody>\n",
       "    <tr>\n",
       "      <th>0</th>\n",
       "      <td>Wittlaer</td>\n",
       "      <td>POLYGON Z ((6.76623 51.31355 0.00000, 6.76617 ...</td>\n",
       "      <td>53.339965</td>\n",
       "      <td>45.046811</td>\n",
       "    </tr>\n",
       "    <tr>\n",
       "      <th>1</th>\n",
       "      <td>Angermund</td>\n",
       "      <td>POLYGON Z ((6.80952 51.34292 0.00000, 6.80943 ...</td>\n",
       "      <td>51.446281</td>\n",
       "      <td>42.895741</td>\n",
       "    </tr>\n",
       "    <tr>\n",
       "      <th>2</th>\n",
       "      <td>Lörick</td>\n",
       "      <td>POLYGON Z ((6.74610 51.25203 0.00000, 6.74380 ...</td>\n",
       "      <td>53.602421</td>\n",
       "      <td>45.645251</td>\n",
       "    </tr>\n",
       "    <tr>\n",
       "      <th>3</th>\n",
       "      <td>Heerdt</td>\n",
       "      <td>POLYGON Z ((6.73560 51.23767 0.00000, 6.73399 ...</td>\n",
       "      <td>60.602572</td>\n",
       "      <td>53.483601</td>\n",
       "    </tr>\n",
       "    <tr>\n",
       "      <th>4</th>\n",
       "      <td>Oberkassel</td>\n",
       "      <td>POLYGON Z ((6.76868 51.23195 0.00000, 6.76868 ...</td>\n",
       "      <td>58.515371</td>\n",
       "      <td>50.722032</td>\n",
       "    </tr>\n",
       "  </tbody>\n",
       "</table>\n",
       "</div>"
      ],
      "text/plain": [
       "         Name                                           geometry    Avg_Day  \\\n",
       "0    Wittlaer  POLYGON Z ((6.76623 51.31355 0.00000, 6.76617 ...  53.339965   \n",
       "1   Angermund  POLYGON Z ((6.80952 51.34292 0.00000, 6.80943 ...  51.446281   \n",
       "2      Lörick  POLYGON Z ((6.74610 51.25203 0.00000, 6.74380 ...  53.602421   \n",
       "3      Heerdt  POLYGON Z ((6.73560 51.23767 0.00000, 6.73399 ...  60.602572   \n",
       "4  Oberkassel  POLYGON Z ((6.76868 51.23195 0.00000, 6.76868 ...  58.515371   \n",
       "\n",
       "   Avg_Night  \n",
       "0  45.046811  \n",
       "1  42.895741  \n",
       "2  45.645251  \n",
       "3  53.483601  \n",
       "4  50.722032  "
      ]
     },
     "execution_count": 39,
     "metadata": {},
     "output_type": "execute_result"
    }
   ],
   "source": [
    "adf=gpd.GeoDataFrame(gply,crs='4326')\n",
    "adf.head()"
   ]
  },
  {
   "cell_type": "code",
   "execution_count": null,
   "id": "c7194dd7",
   "metadata": {},
   "outputs": [],
   "source": []
  },
  {
   "cell_type": "code",
   "execution_count": null,
   "id": "aea6dc79",
   "metadata": {},
   "outputs": [],
   "source": []
  },
  {
   "cell_type": "code",
   "execution_count": 40,
   "id": "9a94e9a5",
   "metadata": {},
   "outputs": [
    {
     "name": "stdout",
     "output_type": "stream",
     "text": [
      "User Guide: https://docs.kepler.gl/docs/keplergl-jupyter\n"
     ]
    }
   ],
   "source": [
    "map_1 = KeplerGl(height=500)"
   ]
  },
  {
   "cell_type": "code",
   "execution_count": 41,
   "id": "6fed5448",
   "metadata": {},
   "outputs": [
    {
     "data": {
      "application/vnd.jupyter.widget-view+json": {
       "model_id": "882be9e2835845ffa0338c08795664b7",
       "version_major": 2,
       "version_minor": 0
      },
      "text/plain": [
       "KeplerGl(data={'kep_ch': {'index': [0, 1, 2, 3, 4, 5, 6, 7, 8, 9, 10, 11, 12, 13, 14, 15, 16, 17, 18, 19, 20, …"
      ]
     },
     "metadata": {},
     "output_type": "display_data"
    }
   ],
   "source": [
    "map_1.add_data(data=adf, name='kep_ch')\n",
    "map_1"
   ]
  },
  {
   "cell_type": "code",
   "execution_count": 22,
   "id": "daa2433b",
   "metadata": {},
   "outputs": [
    {
     "name": "stdout",
     "output_type": "stream",
     "text": [
      "Map saved to kep_choro.html!\n"
     ]
    }
   ],
   "source": [
    "map_1.save_to_html(file_name='kep_choro.html')"
   ]
  }
 ],
 "metadata": {
  "kernelspec": {
   "display_name": "Python 3 (ipykernel)",
   "language": "python",
   "name": "python3"
  },
  "language_info": {
   "codemirror_mode": {
    "name": "ipython",
    "version": 3
   },
   "file_extension": ".py",
   "mimetype": "text/x-python",
   "name": "python",
   "nbconvert_exporter": "python",
   "pygments_lexer": "ipython3",
   "version": "3.10.5"
  }
 },
 "nbformat": 4,
 "nbformat_minor": 5
}
