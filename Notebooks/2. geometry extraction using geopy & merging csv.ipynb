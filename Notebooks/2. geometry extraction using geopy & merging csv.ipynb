{
 "cells": [
  {
   "cell_type": "markdown",
   "id": "450eb2c2",
   "metadata": {},
   "source": [
    "### We needed the Geometries (Latitude & Longitude) of the addresses to continue. We are using geopy package to extarct the geometry. Since geopy cannot process all the 78000+ rows at time, we are adding the geometries part by part and combining the resultant datasets using glob package to make it one single dataset. "
   ]
  },
  {
   "cell_type": "code",
   "execution_count": 1,
   "id": "6d8e93bc",
   "metadata": {},
   "outputs": [],
   "source": [
    "#importing necessary libraries\n",
    "import numpy as np\n",
    "import pandas as pd"
   ]
  },
  {
   "cell_type": "code",
   "execution_count": null,
   "id": "3d9d047f",
   "metadata": {},
   "outputs": [],
   "source": [
    "#reading the csv file \n",
    "df = pd.read_csv(\"noise_dus.csv\")\n",
    "df.head()"
   ]
  },
  {
   "cell_type": "markdown",
   "id": "f8795d9e",
   "metadata": {},
   "source": [
    "### Extracting Geometry"
   ]
  },
  {
   "cell_type": "code",
   "execution_count": null,
   "id": "c45a9e00",
   "metadata": {},
   "outputs": [],
   "source": [
    "#setting \n",
    "df = df.iloc[77000:]\n",
    "df"
   ]
  },
  {
   "cell_type": "code",
   "execution_count": null,
   "id": "389b096d",
   "metadata": {},
   "outputs": [],
   "source": [
    "#creating the Lat & Long columns\n",
    "df['Latitude'] = np.nan\n",
    "df['Longitude']=np.nan"
   ]
  },
  {
   "cell_type": "code",
   "execution_count": null,
   "id": "6368a075",
   "metadata": {},
   "outputs": [],
   "source": [
    "#using geopy to extract the geometry\n",
    "from geopy.geocoders import Nominatim as Nom\n",
    "geolocator = Nom(user_agent='Tester')\n",
    "\n",
    "for i in df.index:\n",
    "    try:\n",
    "        location = geolocator.geocode(df['Address'][i])\n",
    "        \n",
    "        df.loc[i,'Latitude'] = location.latitude\n",
    "        df.loc[i,'Longitude'] = location.longitude\n",
    "    except:\n",
    "        df.loc[i, 'Latitude'] = ' '\n",
    "        df.loc[i, 'Longitude'] = ' '"
   ]
  },
  {
   "cell_type": "code",
   "execution_count": null,
   "id": "1d139ec8",
   "metadata": {},
   "outputs": [],
   "source": [
    "df.to_csv('dus77000-79000_d.csv',index=False)"
   ]
  },
  {
   "cell_type": "code",
   "execution_count": null,
   "id": "a228f256",
   "metadata": {},
   "outputs": [],
   "source": []
  },
  {
   "cell_type": "markdown",
   "id": "6d863ed4",
   "metadata": {},
   "source": [
    "### Merging the csv "
   ]
  },
  {
   "cell_type": "code",
   "execution_count": null,
   "id": "e1c37544",
   "metadata": {},
   "outputs": [],
   "source": [
    "#importing the glob package\n",
    "from glob import glob"
   ]
  },
  {
   "cell_type": "code",
   "execution_count": null,
   "id": "8dd40b6c",
   "metadata": {},
   "outputs": [],
   "source": [
    "#name the different csv files to be combined in ascending order in the same path folder\n",
    "dfs=sorted(glob('dus*.csv'))\n",
    "dfs"
   ]
  },
  {
   "cell_type": "code",
   "execution_count": null,
   "id": "faac2329",
   "metadata": {},
   "outputs": [],
   "source": [
    "#merging the csv's\n",
    "mergedata=pd.concat(pd.read_csv(datafile).assign(sourcefilename = datafile)\n",
    "                   for datafile in dfs)"
   ]
  },
  {
   "cell_type": "code",
   "execution_count": null,
   "id": "789c26a4",
   "metadata": {},
   "outputs": [],
   "source": [
    "mergedata.shape"
   ]
  },
  {
   "cell_type": "code",
   "execution_count": null,
   "id": "0d2f6a90",
   "metadata": {},
   "outputs": [],
   "source": [
    "mergedata.to_csv('noise_c.csv')"
   ]
  },
  {
   "cell_type": "code",
   "execution_count": null,
   "id": "8ea402e4",
   "metadata": {},
   "outputs": [],
   "source": [
    "df=pd.read_excel('noise_viz.xlsx')\n",
    "df.head()"
   ]
  },
  {
   "cell_type": "code",
   "execution_count": null,
   "id": "d9790af4",
   "metadata": {},
   "outputs": [],
   "source": [
    "df.shape,df.describe()"
   ]
  },
  {
   "cell_type": "code",
   "execution_count": null,
   "id": "0ba899db",
   "metadata": {},
   "outputs": [],
   "source": []
  }
 ],
 "metadata": {
  "kernelspec": {
   "display_name": "Python 3 (ipykernel)",
   "language": "python",
   "name": "python3"
  },
  "language_info": {
   "codemirror_mode": {
    "name": "ipython",
    "version": 3
   },
   "file_extension": ".py",
   "mimetype": "text/x-python",
   "name": "python",
   "nbconvert_exporter": "python",
   "pygments_lexer": "ipython3",
   "version": "3.10.5"
  }
 },
 "nbformat": 4,
 "nbformat_minor": 5
}
